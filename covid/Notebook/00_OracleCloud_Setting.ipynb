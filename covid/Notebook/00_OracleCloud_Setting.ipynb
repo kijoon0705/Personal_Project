{
 "cells": [
  {
   "cell_type": "markdown",
   "metadata": {},
   "source": [
    "# Oracle Cloud Setting \n",
    "---  \n",
    "\n",
    "### 개요  \n",
    "- 업로드한 주피터 노트북 파일은 깃허브에 업로드하기 위해서 Local 저장소에 있는 파일을 불러오는 방식으로 정리했습니다.\n",
    "- 실제 분석 환경은 오라클 클라우드에 DB를 적재한 후,\n",
    "- 클라우드에 접속하여 SQL문으로 데이터를 정제/가공 후,\n",
    "- 판다스로 시각화 했습니다. \n",
    "- 아래의 코드는 오라클 크라우드 DB에 편하게 접속하기 위해서 만든 '셋팅 모듈'입니다.\n",
    "\n",
    "### 결론\n",
    "\n",
    "- 최근 클라우드 DB 접송 방식에 대한 시장의 수요가 높다고 생각하여 개인 프로젝트를 진행하면서 클라우드 접속 방시을 사용했습니다. 오라클 클라우드 가격이 비쌌지만 모두 20 GB의 저장소를 무료로 제공하고 있고, 한번 업로드 한 후 월렛 정보만 갖고 있으면 어디에서는 접속 할 수 있다는 장점이 있었습니다. \n",
    "- 개인적으로 클라우드 접속하여 날린 SQL 쿼리 문의 처리 속도가 늦다고 생각했습니다. 이게 저의 PC 사양의 문제인건지 아니면 클라우드 서버 자체의 문제인건지 추후에 확인할 필요가 있었습니다."
   ]
  },
  {
   "cell_type": "markdown",
   "metadata": {},
   "source": [
    "---\n",
    "## 1. 분석에 필요한 패키지를 불러옵니다.\n",
    "\n",
    " - 자체적으로 만든 SettingModule을 사용하여 필요한 패키지와 데이터베이스 접속 셋팅을 시작합니다.\n",
    "   (분석에 필요한 패키지와 오라클 클라우스 접속 메소드를 가진 모듈)"
   ]
  },
  {
   "cell_type": "code",
   "execution_count": 1,
   "metadata": {},
   "outputs": [
    {
     "name": "stdout",
     "output_type": "stream",
     "text": [
      "'one_time_config.yml'이 생겼습니다.\n",
      "'conn = conn_DB()' 로 접속하세요.\n",
      "예외가 발생했습니다.\n"
     ]
    }
   ],
   "source": [
    "from SettingModule import * \n",
    "import numpy as np\n",
    "# 오라클 클라우드 접속을 위해 필요한 yml 파일을 생성합니다. \n",
    "# 우리의 클라우드 정보가 담긴 one_time_config.yml 파일이 생성됩니다. \n",
    "create_yaml() \n",
    "\n",
    "# conn_DB() yml 설정 파일에 접속 정보를 통해 오라클 클라우드 접속 객체를 생성하여 반환되고 conn 변수에 담습니다.\n",
    "# \"pt.query_to_df(<query문>, conn)으로 사용하세요.\" \n",
    "# \"프로그램 종료 전 반드시 disconn_DB(conn)하세요!\" \n",
    "# 라는 문구가 나오지 않는다면 정상적으로 접속하지 못한 것입니다.\n",
    "\n",
    "conn = conn_DB()"
   ]
  },
  {
   "cell_type": "markdown",
   "metadata": {},
   "source": [
    "---\n",
    "## 2. 분석에 필요한 데이터를 클라우드에서 받아옵니다.\n",
    "\n",
    " - SQL 쿼리문을 사용하여 필요한 데이터를 클라우드로 부터 받아와 각 데이터 프레임에 담습니다."
   ]
  },
  {
   "cell_type": "code",
   "execution_count": 2,
   "metadata": {},
   "outputs": [],
   "source": [
    "#df_case = pt.query_to_df(\"SELECT * FROM case\", conn)\n",
    "#df_patientInfo = pt.query_to_df(\"SELECT * FROM patientinfo\", conn)\n",
    "#df_patientRoute = pt.query_to_df(\"SELECT * FROM patientroute\", conn)\n",
    "#df_timeProvince = pt.query_to_df(\"SELECT * FROM timeprovince\", conn)\n",
    "#df_region = pt.query_to_df(\"SELECT * FROM region\", conn)"
   ]
  }
 ],
 "metadata": {
  "kernelspec": {
   "display_name": "Python 3",
   "language": "python",
   "name": "python3"
  },
  "language_info": {
   "codemirror_mode": {
    "name": "ipython",
    "version": 3
   },
   "file_extension": ".py",
   "mimetype": "text/x-python",
   "name": "python",
   "nbconvert_exporter": "python",
   "pygments_lexer": "ipython3",
   "version": "3.6.9"
  }
 },
 "nbformat": 4,
 "nbformat_minor": 2
}
